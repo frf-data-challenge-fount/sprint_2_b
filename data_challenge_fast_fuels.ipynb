{
 "cells": [
  {
   "cell_type": "markdown",
   "id": "7f81f5ad",
   "metadata": {},
   "source": [
    "<div style=\"display: flex; justify-content: space-between; align-items: center; margin-bottom: 40px; margin-top: 0;\">\n",
    "    <div style=\"flex: 0 0 auto; margin-left: 0; margin-bottom: 0; margin-top: 0;\">\n",
    "        <img src=\"./pics/UCSD Logo.png\" alt=\"UCSD Logo\" style=\"width: 179px; margin-bottom: 0px; margin-top: 20px;\">\n",
    "    </div>\n",
    "    <div style=\"flex: 0 0 auto; margin-left: auto; margin-bottom: 0; margin-top: 20px;\">\n",
    "        <img src=\"./pics/LANL-logo.png\" alt=\"LANL Logo\" style=\"width: 200px; margin-bottom: 0px;\">\n",
    "    </div>\n",
    "    <div style=\"flex: 0 0 auto; margin-left: auto; margin-bottom: 0; margin-top: 20px;\">\n",
    "        <img src=\"./pics/prowess.png\" alt=\"Prowess Logo\" style=\"width: 200px; margin-bottom: 0px;\">\n",
    "    </div>\n",
    "    <div style=\"flex: 0 0 auto; margin-left: auto; margin-bottom: 0; margin-top: 20px;\">\n",
    "        <img src=\"./pics/wildfire.png\" alt=\"WildFire Logo\" width=\"100\"/>\n",
    "    </div>\n",
    "</div>\n",
    "\n",
    "<h1 style=\"text-align: center; font-size: 48px; margin-top: 0;\">Fire-Ready Forests Data Challenge</h1>"
   ]
  },
  {
   "cell_type": "markdown",
   "id": "70c079ed",
   "metadata": {},
   "source": [
    "# FastFuels\n",
    "\n",
    "This notebook describes FastFuels and how it works as well as how the FastFuels data were generated for the data challenge. \n",
    "\n",
    "For the data challenge, there is no need to run this notebook, it is for demonstration purposes, since we have already provided the data.\n",
    "\n",
    "For more information on FastFuels, you can look at the source code [here](https://github.com/silvxlabs/fastfuels-core/blob/main/fastfuels_core/point_process.py) and read the mathematical formulation in the [FastFuels paper](https://www.sciencedirect.com/science/article/pii/S1364815224002755)"
   ]
  },
  {
   "cell_type": "code",
   "execution_count": null,
   "id": "fd99db7b-234c-48fc-b4f8-35d2e8528457",
   "metadata": {},
   "outputs": [],
   "source": [
    "import json \n",
    "import geopandas as gpd\n",
    "import numpy as np\n",
    "import pandas as pd\n",
    "import requests\n",
    "import geojson\n",
    "import wget\n",
    "import time\n",
    "import matplotlib.pyplot as plt"
   ]
  },
  {
   "cell_type": "markdown",
   "id": "6a3234a6-614e-4361-ab60-64f055cc95c6",
   "metadata": {},
   "source": [
    "For the notebook, you will need a Fast Fuels API key, which you can request here: https://fastfuels.silvxlabs.com/"
   ]
  },
  {
   "cell_type": "code",
   "execution_count": null,
   "id": "a0160e52-24bf-4159-ad06-6a0e2ee796a9",
   "metadata": {},
   "outputs": [],
   "source": [
    "apikey = input(\"FastFuels API Key: \")"
   ]
  },
  {
   "cell_type": "markdown",
   "id": "2345ba4e",
   "metadata": {},
   "source": [
    "[FastFuels](https://www.firelab.org/project/fastfuels-3d-fuels-next-generation-fire-models) is a 3D model of vegetation used primarily for the use in 3D fire models. FastFuels leverages multiple data sources including the [Treemap](https://data.fs.usda.gov/geodata/rastergateway/treemap/index.php) project run by the United States Forest Service (USFS). Throughout the US, the USFS has run the [Forest Inventory and Analysis (FIA) program](https://research.fs.usda.gov/programs/fia), which is a historic data collection program where they have sampled representative land cover and land use types throughout the US, collecting data about forest resources, health, and ownership consistently over time. The Treemap project is a model that has assigned a representative FIA plot for each 30 m<sup>2</sup> area of the contiguous US. FastFuels is able to use the outputs of Treemap to simulate what trees might be found in any given location."
   ]
  },
  {
   "cell_type": "markdown",
   "id": "cda95936-2e81-4096-b0e9-2d689f586d28",
   "metadata": {},
   "source": [
    "We should take the plots identification csv file and use this to define the area where we will be generating FastFuels treelists from. The surveyed area will represent tenth acre plots. The plots identification csv file only gives information about the plot center, so we will be using the geopandas library to help us create polygons from the points."
   ]
  },
  {
   "cell_type": "code",
   "execution_count": null,
   "id": "d9915c0a-5a1c-4873-8a1b-c9f340eee9d0",
   "metadata": {},
   "outputs": [],
   "source": [
    "plots_df = pd.read_csv('data/01_plot_identification.csv') # Remember to download this file to the data folder\n",
    "\n",
    "plots_df.head()"
   ]
  },
  {
   "cell_type": "markdown",
   "id": "8cf05b15-bcf6-4ccf-bffb-a24b84acf5d6",
   "metadata": {},
   "source": [
    "In the plots identification file, the columns `plot_coord_x`, `plot_coord_y`, and `plot_coord_srs` are the most relevant for creating polygons. `plot_coord_srs` is the spatial reference system in [UTM (Universal Transverse Mercator) zones](https://www.usgs.gov/faqs/what-does-term-utm-mean-utm-better-or-more-accurate-latitudelongitude). Because California is so large, there are two UTM zones in this dataset, so we will need to clean up the dataset a bit."
   ]
  },
  {
   "cell_type": "code",
   "execution_count": null,
   "id": "f810e4f7-22bc-42ad-9d23-81e24af78952",
   "metadata": {},
   "outputs": [],
   "source": [
    "print(f'The UTM zones are: {np.unique(plots_df.plot_coord_srs)}')"
   ]
  },
  {
   "cell_type": "markdown",
   "id": "27a4ee10-def4-4abf-893e-449ac4044a21",
   "metadata": {},
   "source": [
    "Fast Fuels actually uses the [EPSG:5070](https://epsg.io/5070-1252) projection, which is valid for the contiguous US, so we will be projecting the data to EPSG:5070 projection."
   ]
  },
  {
   "cell_type": "code",
   "execution_count": null,
   "id": "41ee3159-2fea-4d7d-884c-d3b8d9f3937d",
   "metadata": {},
   "outputs": [],
   "source": [
    "plots_intermediate = []\n",
    "for srs in np.unique(plots_df.plot_coord_srs):\n",
    "    plots_subset = plots_df[plots_df.plot_coord_srs == srs]\n",
    "    plots_subset_gdf = gpd.GeoDataFrame(plots_subset, \n",
    "                                   geometry = gpd.points_from_xy(plots_subset.plot_coord_x, plots_subset.plot_coord_y), \n",
    "                                   crs = srs)\n",
    "\n",
    "    #reproject to EPSG 5070\n",
    "    plots_subset_gdf = plots_subset_gdf.to_crs(5070)\n",
    "    \n",
    "    plots_intermediate.append(plots_subset_gdf)\n",
    "\n",
    "plots_gdf = pd.concat(plots_intermediate)\n",
    "plots_gdf = plots_gdf.dropna(subset = 'plot_blk')"
   ]
  },
  {
   "cell_type": "markdown",
   "id": "87235348-35d9-4adf-8478-28509821f876",
   "metadata": {},
   "source": [
    "Check out the geometry column - they are points"
   ]
  },
  {
   "cell_type": "code",
   "execution_count": null,
   "id": "eefd978b-feb9-4f6c-8c56-93e8aba008c8",
   "metadata": {
    "scrolled": true
   },
   "outputs": [],
   "source": [
    "plots_gdf.head().geometry"
   ]
  },
  {
   "cell_type": "code",
   "execution_count": null,
   "id": "774e18d4-b134-4193-a046-af3263cb8020",
   "metadata": {},
   "outputs": [],
   "source": [
    "#buffer the plots to get 1/10 acre plots\n",
    "plot_size = 1/10 #acre\n",
    "acre_to_m2 = 4046.86\n",
    "plot_size_m2 = plot_size * acre_to_m2\n",
    "plot_radius = np.sqrt(plot_size_m2/np.pi)\n",
    "\n",
    "plots_gdf = plots_gdf.set_geometry(plots_gdf.buffer(plot_radius))"
   ]
  },
  {
   "cell_type": "markdown",
   "id": "2f710540-0901-41ec-9911-286671228903",
   "metadata": {},
   "source": [
    "Check out the geometry column again - now it is a polygon"
   ]
  },
  {
   "cell_type": "code",
   "execution_count": null,
   "id": "4ed0f052-a194-48d6-9b0d-d38c21b0e3fe",
   "metadata": {
    "scrolled": true
   },
   "outputs": [],
   "source": [
    "plots_gdf.head().geometry"
   ]
  },
  {
   "cell_type": "markdown",
   "id": "85581f91-04b5-4b36-a365-1e27e7c4fe6a",
   "metadata": {},
   "source": [
    "Now that we have the data in the correct format, we can now use the [Fast Fuels API](https://api.fastfuels.silvxlabs.com/redoc) to generate treelists"
   ]
  },
  {
   "cell_type": "code",
   "execution_count": null,
   "id": "1351e074-a5ad-435d-92fc-a23588b16df8",
   "metadata": {},
   "outputs": [],
   "source": [
    "def wait_for_complete(request_url, headers):\n",
    "    '''\n",
    "    wait for the response to be completed\n",
    "    request_url is the url to be requested\n",
    "    headers is the headers\n",
    "    '''\n",
    "    response = json.loads(requests.get(url = request_url, headers = headers).text)\n",
    "    while response['status'] in ('pending', 'processing', 'running' ):\n",
    "        time.sleep(5)\n",
    "        response = json.loads(requests.get(url = request_url, headers = headers).text)\n",
    "\n",
    "\n",
    "def get_treelist(site, apikey, gjson, plot_name, temp_file):\n",
    "\n",
    "    '''\n",
    "    get the treelist from fast fuel API\n",
    "    creates the domain, does road and water masks, creates the tree inventories\n",
    "    downloads the inventory\n",
    "    returns the tree list\n",
    "    site is 'https://api.fastfuels.silvxlabs.com/v1/domains'\n",
    "    apikey is the api key\n",
    "    plot_name is the name of the plot\n",
    "    temp_file is the location to temporary save the file (.geojson)\n",
    "    '''\n",
    "    \n",
    "    gjson['name'] = plot_name\n",
    "    gjson['description'] = f'This is for {plot_name}'\n",
    "    gjson['horizontalResolution'] = 2\n",
    "    gjson['verticalResolution'] = 1\n",
    "    \n",
    "    headers = {'accept': 'application/json',\n",
    "             'api-key': apikey,\n",
    "        'Content-Type': 'application/json',\n",
    "    }\n",
    "    \n",
    "    #create domain\n",
    "    domain_response = requests.post(site, headers = headers, json = gjson)\n",
    "    domain_id = json.loads(domain_response.text)['id']\n",
    "    \n",
    "    \n",
    "    #create road mask\n",
    "    json_data_road_water = {\n",
    "        'sources': [\n",
    "            'OSM',\n",
    "        ],\n",
    "    }\n",
    "    \n",
    "    road_response = requests.post(f'{site}/{domain_id}/features/road', headers = headers, \n",
    "                  json = json_data_road_water)\n",
    "    \n",
    "    #create water mask\n",
    "    water_response = requests.post(f'{site}/{domain_id}/features/water', headers = headers, \n",
    "                  json = json_data_road_water)\n",
    "    \n",
    "    #wait until water and road mask response completed\n",
    "    wait_for_complete(f'{site}/{domain_id}/features/road', headers)\n",
    "    wait_for_complete(f'{site}/{domain_id}/features/water', headers)\n",
    "    \n",
    "    \n",
    "    #create tree inventory resource\n",
    "    json_data_tree = {\n",
    "        'sources': [\n",
    "            'TreeMap',\n",
    "        ]\n",
    "    }\n",
    "    \n",
    "    tree_inventory_response = requests.post(f'{site}/{domain_id}/inventories/tree', headers = headers, \n",
    "                  json = json_data_tree)\n",
    "    \n",
    "    #wait until tree inventory response completed\n",
    "    wait_for_complete(f'{site}/{domain_id}/inventories/tree', headers)\n",
    "    \n",
    "    #create tree grid\n",
    "    json_data_tree_grid = {\n",
    "        'attributes': [\n",
    "            'bulkDensity',\n",
    "            'fuelMoisture',\n",
    "        ],\n",
    "        'fuelMoisture': {\n",
    "            'source': 'uniform',\n",
    "            'value': 125,\n",
    "        },\n",
    "    }\n",
    "    \n",
    "    \n",
    "    tree_grid_response = requests.post(f'{site}/{domain_id}/grids/tree', headers = headers, \n",
    "                  json = json_data_tree_grid)\n",
    "    \n",
    "    #wait until tree grid inventory response completed\n",
    "    wait_for_complete(f'{site}/{domain_id}/grids/tree', headers)\n",
    "    \n",
    "    #get tree inventory\n",
    "    tree_inventory = requests.post(f'{site}/{domain_id}/inventories/tree/exports/geojson', headers = headers)\n",
    "    \n",
    "    #wait until tree grid inventory response completed\n",
    "    wait_for_complete(f'{site}/{domain_id}/inventories/tree/exports/geojson', headers)\n",
    "    \n",
    "    inventory_response = json.loads(requests.get(f'{site}/{domain_id}/inventories/tree/exports/geojson', headers = headers).text)\n",
    "    inventory_status = inventory_response['status']\n",
    "    \n",
    "    if inventory_status == 'completed':\n",
    "        download_link = inventory_response['signedUrl']\n",
    "        wget.download(download_link, temp_file)\n",
    "        tree_list = gpd.read_file(temp_file)\n",
    "        tree_list['plot_name'] = plot_name\n",
    "        return(tree_list)\n",
    "    \n",
    "    else:\n",
    "        print('fail')"
   ]
  },
  {
   "cell_type": "markdown",
   "id": "3929db06-c933-4cc3-8a34-7ffba12976eb",
   "metadata": {},
   "source": [
    "here's what the spatial data look like\n"
   ]
  },
  {
   "cell_type": "code",
   "execution_count": null,
   "id": "095cce47-1737-4ab2-ae18-af7e2fb185ec",
   "metadata": {
    "scrolled": true
   },
   "outputs": [],
   "source": [
    "geojson.loads(plots_gdf.iloc[[0]].to_json())"
   ]
  },
  {
   "cell_type": "code",
   "execution_count": null,
   "id": "3dcce377-66c0-41e6-aa40-255524a85cd2",
   "metadata": {},
   "outputs": [],
   "source": [
    "#the following goes through each plot and generates the fast fuels treelist for each\n",
    "nrows, ncols = plots_gdf.shape\n",
    "site = 'https://api.fastfuels.silvxlabs.com/v1/domains'\n",
    "temp_file = 'temp_file.geojson'\n",
    "\n",
    "fftl_df_list = []\n",
    "\n",
    "for i in np.arange(nrows):\n",
    "    gjson = geojson.loads(plots_gdf.iloc[[i]].to_json())\n",
    "    plot_name = plots_gdf.iloc[[i]].plot_blk.values[0]\n",
    "    \n",
    "    fftl_df_list.append(get_treelist(site, apikey, gjson, str(plot_name), temp_file))\n",
    "\n",
    "#make the final fast fuel treelist\n",
    "final_fftl = pd.concat(fftl_df_list)\n",
    "\n",
    "#save treelist\n",
    "final_fftl.to_csv('full_fftl_plots.csv')"
   ]
  },
  {
   "cell_type": "markdown",
   "id": "1c2a07f4-65dc-411d-b8e5-851b5d9af3b5",
   "metadata": {},
   "source": [
    "fast fuels generates the treelist in a rectangle around the plot (which is circular), so we can perform a spatial join operation to get only the trees in the plot. Note that some plots may have trees that are all already be contained in the circular plot boundary.\n"
   ]
  },
  {
   "cell_type": "code",
   "execution_count": null,
   "id": "519478cf-e3f9-4ac8-b123-8d90818d8ca1",
   "metadata": {
    "scrolled": true
   },
   "outputs": [],
   "source": [
    "# fast fuels returns the treelist in EPSG:5070\n",
    "\n",
    "ff_gpd = gpd.GeoDataFrame(final_fftl, geometry = gpd.points_from_xy(final_fftl.X, final_fftl.Y), crs = 5070)\n",
    "\n",
    "print(ff_gpd.shape)\n",
    "ff_gpd.head()"
   ]
  },
  {
   "cell_type": "code",
   "execution_count": null,
   "id": "5abd1edf-b85b-40eb-a603-32ef27035265",
   "metadata": {},
   "outputs": [],
   "source": [
    "import matplotlib.pyplot as plt\n",
    "fig, ax = plt.subplots()\n",
    "randomly_chosen_plot = 40\n",
    "plot_of_interest = ff_gpd.plot_name.values[randomly_chosen_plot]\n",
    "\n",
    "ff_gpd[ff_gpd.plot_name == plot_of_interest].plot(ax = ax)\n",
    "plots_gdf[plots_gdf.plot_blk == plot_of_interest].boundary.plot(ax = ax)\n",
    "plt.title('trees in ' + plot_of_interest +  ' (EPSG:5070)')\n",
    "plt.xlabel('X (meters)')\n",
    "plt.ylabel('Y (meters)')"
   ]
  },
  {
   "cell_type": "code",
   "execution_count": null,
   "id": "99635af6-467a-4849-9222-e421772513b1",
   "metadata": {},
   "outputs": [],
   "source": [
    "# peform the spatial join - this will get only the trees that are within the circular plot boundaries\n",
    "ff_csv = ff_gpd.sjoin(plots_gdf)\n",
    "ff_csv.shape"
   ]
  },
  {
   "cell_type": "code",
   "execution_count": null,
   "id": "3e3f5556-affa-44f6-87e5-c26dfb9221b6",
   "metadata": {},
   "outputs": [],
   "source": [
    "fig, ax = plt.subplots()\n",
    "ff_gpd[ff_gpd.plot_name == plot_of_interest].plot(ax = ax, label = 'trees removed')\n",
    "ff_csv[ff_csv.plot_name == plot_of_interest].plot(ax = ax, label = 'trees kept')\n",
    "plots_gdf[plots_gdf.plot_blk == plot_of_interest].boundary.plot(ax = ax)\n",
    "plt.title('trees in ' + plot_of_interest +  ' (EPSG:5070)')\n",
    "plt.xlabel('X (meters)')\n",
    "plt.ylabel('Y (meters)')"
   ]
  },
  {
   "cell_type": "code",
   "execution_count": null,
   "id": "b498787e",
   "metadata": {
    "scrolled": true
   },
   "outputs": [],
   "source": [
    "#save as csv - this csv is provided for you in the data challenge\n",
    "ff_csv[['SPCD', 'DIA', 'HT', 'STATUSCD', \n",
    "       'CR', 'X', 'Y', 'plot_name', 'geometry']].to_csv('fftl_plots.csv')"
   ]
  },
  {
   "cell_type": "code",
   "execution_count": null,
   "id": "ba7a98ff-31cf-4ff5-8aa6-d47ec334780f",
   "metadata": {},
   "outputs": [],
   "source": []
  }
 ],
 "metadata": {
  "kernelspec": {
   "display_name": "Python 3 (ipykernel)",
   "language": "python",
   "name": "python3"
  },
  "language_info": {
   "codemirror_mode": {
    "name": "ipython",
    "version": 3
   },
   "file_extension": ".py",
   "mimetype": "text/x-python",
   "name": "python",
   "nbconvert_exporter": "python",
   "pygments_lexer": "ipython3",
   "version": "3.11.9"
  }
 },
 "nbformat": 4,
 "nbformat_minor": 5
}
