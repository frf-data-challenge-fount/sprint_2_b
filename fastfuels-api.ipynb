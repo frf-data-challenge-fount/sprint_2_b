{
 "cells": [
  {
   "cell_type": "markdown",
   "id": "891c2da8",
   "metadata": {},
   "source": [
    "<div style=\"display: flex; justify-content: space-between; align-items: center; margin-bottom: 40px; margin-top: 0;\">\n",
    "    <div style=\"flex: 0 0 auto; margin-left: 0; margin-bottom: 0; margin-top: 0;\">\n",
    "        <img src=\"./pics/UCSD Logo.png\" alt=\"UCSD Logo\" style=\"width: 179px; margin-bottom: 0px; margin-top: 20px;\">\n",
    "    </div>\n",
    "    <div style=\"flex: 0 0 auto; margin-left: auto; margin-bottom: 0; margin-top: 20px;\">\n",
    "        <img src=\"./pics/LANL-logo.png\" alt=\"LANL Logo\" style=\"width: 200px; margin-bottom: 0px;\">\n",
    "    </div>\n",
    "    <div style=\"flex: 0 0 auto; margin-left: auto; margin-bottom: 0; margin-top: 20px;\">\n",
    "        <img src=\"./pics/prowess.png\" alt=\"Prowess Logo\" style=\"width: 200px; margin-bottom: 0px;\">\n",
    "    </div>\n",
    "    <div style=\"flex: 0 0 auto; margin-left: auto; margin-bottom: 0; margin-top: 20px;\">\n",
    "        <img src=\"./pics/wildfire.png\" alt=\"WildFire Logo\" width=\"100\"/>\n",
    "    </div>\n",
    "</div>\n",
    "\n",
    "<h1 style=\"text-align: center; font-size: 48px; margin-top: 0;\">Fire-Ready Forests Data Challenge</h1>"
   ]
  },
  {
   "cell_type": "markdown",
   "id": "70c079ed",
   "metadata": {},
   "source": [
    "# FastFuels\n",
    "\n",
    "This notebook describes FastFuels and how it works as well as how the FastFuels data were generated for the data challenge. \n",
    "\n",
    "For the data challenge, there is no need to run this notebook, it is for demonstration purposes, since we have already registered this dataset in the Data Catalog.\n",
    "\n",
    "In case you want to run this notebook, you will need a Fast Fuels API key, which you can request here: https://fastfuels.silvxlabs.com/\n",
    "\n",
    "For more information on FastFuels, you can look at the source code [here](https://github.com/silvxlabs/fastfuels-core/blob/main/fastfuels_core/point_process.py) and read the mathematical formulation in the [FastFuels paper](https://www.sciencedirect.com/science/article/pii/S1364815224002755)"
   ]
  },
  {
   "cell_type": "code",
   "execution_count": null,
   "id": "fd99db7b-234c-48fc-b4f8-35d2e8528457",
   "metadata": {},
   "outputs": [],
   "source": [
    "import json \n",
    "import geopandas as gpd\n",
    "import numpy as np\n",
    "import pandas as pd\n",
    "import requests\n",
    "import geojson\n",
    "import time\n",
    "import matplotlib.pyplot as plt"
   ]
  },
  {
   "cell_type": "code",
   "execution_count": null,
   "id": "a0160e52-24bf-4159-ad06-6a0e2ee796a9",
   "metadata": {},
   "outputs": [],
   "source": [
    "apikey = input(\"FastFuels API Key:#YOUR-API-KEY\")"
   ]
  },
  {
   "cell_type": "markdown",
   "id": "2345ba4e",
   "metadata": {},
   "source": [
    "[FastFuels](https://www.firelab.org/project/fastfuels-3d-fuels-next-generation-fire-models) is a 3D model of vegetation used primarily for the use in 3D fire models. FastFuels leverages multiple data sources including the [Treemap](https://data.fs.usda.gov/geodata/rastergateway/treemap/index.php) project run by the United States Forest Service (USFS). Throughout the US, the USFS has run the [Forest Inventory and Analysis (FIA) program](https://research.fs.usda.gov/programs/fia), which is a historic data collection program where they have sampled representative land cover and land use types throughout the US, collecting data about forest resources, health, and ownership consistently over time. The Treemap project is a model that has assigned a representative FIA plot for each 30 m<sup>2</sup> area of the contiguous US. FastFuels is able to use the outputs of Treemap to simulate what trees might be found in any given location."
   ]
  },
  {
   "cell_type": "markdown",
   "id": "cda95936-2e81-4096-b0e9-2d689f586d28",
   "metadata": {},
   "source": [
    "We should take the plots identification csv file and use this to define the area where we will be generating FastFuels treelists from. The surveyed area will represent tenth acre plots. The plots identification csv file only gives information about the plot center, so we will be using the geopandas library to help us create polygons from the points."
   ]
  },
  {
   "cell_type": "code",
   "execution_count": null,
   "id": "d9915c0a-5a1c-4873-8a1b-c9f340eee9d0",
   "metadata": {},
   "outputs": [
    {
     "data": {
      "text/html": [
       "<div>\n",
       "<style scoped>\n",
       "    .dataframe tbody tr th:only-of-type {\n",
       "        vertical-align: middle;\n",
       "    }\n",
       "\n",
       "    .dataframe tbody tr th {\n",
       "        vertical-align: top;\n",
       "    }\n",
       "\n",
       "    .dataframe thead th {\n",
       "        text-align: right;\n",
       "    }\n",
       "</style>\n",
       "<table border=\"1\" class=\"dataframe\">\n",
       "  <thead>\n",
       "    <tr style=\"text-align: right;\">\n",
       "      <th></th>\n",
       "      <th>inventory_id</th>\n",
       "      <th>site_project</th>\n",
       "      <th>site_project_label</th>\n",
       "      <th>site_name</th>\n",
       "      <th>site_name_label</th>\n",
       "      <th>inventory_pre_post_fire</th>\n",
       "      <th>inventory_pre_post_fire_label</th>\n",
       "      <th>plot_num</th>\n",
       "      <th>plot_blk</th>\n",
       "      <th>inventory_date</th>\n",
       "      <th>...</th>\n",
       "      <th>groundpost_cover_total</th>\n",
       "      <th>veg_cover_id</th>\n",
       "      <th>veg_cover_tot_veg_percent</th>\n",
       "      <th>veg_cover_tov_percent</th>\n",
       "      <th>veg_cover_und_percent</th>\n",
       "      <th>veg_cover_tos_percent</th>\n",
       "      <th>veg_cover_herb_percent</th>\n",
       "      <th>sp_invcov_id</th>\n",
       "      <th>sp_cov_inv_obs</th>\n",
       "      <th>sp_cov_inv_obs_label</th>\n",
       "    </tr>\n",
       "  </thead>\n",
       "  <tbody>\n",
       "    <tr>\n",
       "      <th>0</th>\n",
       "      <td>143_pre_SHA_burn3d</td>\n",
       "      <td>burn3d</td>\n",
       "      <td>Burnpro3d</td>\n",
       "      <td>SHA</td>\n",
       "      <td>Shaver Lake (SHA)</td>\n",
       "      <td>pre</td>\n",
       "      <td>Prefire</td>\n",
       "      <td>143</td>\n",
       "      <td>CAFKU_0143_20240721_1</td>\n",
       "      <td>7/21/24</td>\n",
       "      <td>...</td>\n",
       "      <td>100</td>\n",
       "      <td>1</td>\n",
       "      <td>50.0</td>\n",
       "      <td>40.0</td>\n",
       "      <td>4.0</td>\n",
       "      <td>0.0</td>\n",
       "      <td>10.0</td>\n",
       "      <td>1</td>\n",
       "      <td>3.0</td>\n",
       "      <td>Abigail</td>\n",
       "    </tr>\n",
       "    <tr>\n",
       "      <th>1</th>\n",
       "      <td>140_pre_SHA_burn3d</td>\n",
       "      <td>burn3d</td>\n",
       "      <td>Burnpro3d</td>\n",
       "      <td>SHA</td>\n",
       "      <td>Shaver Lake (SHA)</td>\n",
       "      <td>pre</td>\n",
       "      <td>Prefire</td>\n",
       "      <td>140</td>\n",
       "      <td>CAFKU_0140_20240721_1</td>\n",
       "      <td>7/21/24</td>\n",
       "      <td>...</td>\n",
       "      <td>100</td>\n",
       "      <td>1</td>\n",
       "      <td>95.0</td>\n",
       "      <td>15.0</td>\n",
       "      <td>2.0</td>\n",
       "      <td>5.0</td>\n",
       "      <td>80.0</td>\n",
       "      <td>1</td>\n",
       "      <td>3.0</td>\n",
       "      <td>Abigail</td>\n",
       "    </tr>\n",
       "    <tr>\n",
       "      <th>2</th>\n",
       "      <td>152_pre_SHA_burn3d</td>\n",
       "      <td>burn3d</td>\n",
       "      <td>Burnpro3d</td>\n",
       "      <td>SHA</td>\n",
       "      <td>Shaver Lake (SHA)</td>\n",
       "      <td>pre</td>\n",
       "      <td>Prefire</td>\n",
       "      <td>152</td>\n",
       "      <td>CAFKU_0152_20240721_1</td>\n",
       "      <td>7/21/24</td>\n",
       "      <td>...</td>\n",
       "      <td>100</td>\n",
       "      <td>1</td>\n",
       "      <td>55.0</td>\n",
       "      <td>30.0</td>\n",
       "      <td>5.0</td>\n",
       "      <td>0.0</td>\n",
       "      <td>20.0</td>\n",
       "      <td>1</td>\n",
       "      <td>3.0</td>\n",
       "      <td>Abigail</td>\n",
       "    </tr>\n",
       "    <tr>\n",
       "      <th>3</th>\n",
       "      <td>147_pre_SHA_burn3d</td>\n",
       "      <td>burn3d</td>\n",
       "      <td>Burnpro3d</td>\n",
       "      <td>SHA</td>\n",
       "      <td>Shaver Lake (SHA)</td>\n",
       "      <td>pre</td>\n",
       "      <td>Prefire</td>\n",
       "      <td>147</td>\n",
       "      <td>CAFKU_0147_20240720_1</td>\n",
       "      <td>7/20/24</td>\n",
       "      <td>...</td>\n",
       "      <td>100</td>\n",
       "      <td>1</td>\n",
       "      <td>75.0</td>\n",
       "      <td>30.0</td>\n",
       "      <td>15.0</td>\n",
       "      <td>8.0</td>\n",
       "      <td>25.0</td>\n",
       "      <td>1</td>\n",
       "      <td>3.0</td>\n",
       "      <td>Abigail</td>\n",
       "    </tr>\n",
       "    <tr>\n",
       "      <th>4</th>\n",
       "      <td>151_pre_SHA_burn3d</td>\n",
       "      <td>burn3d</td>\n",
       "      <td>Burnpro3d</td>\n",
       "      <td>SHA</td>\n",
       "      <td>Shaver Lake (SHA)</td>\n",
       "      <td>pre</td>\n",
       "      <td>Prefire</td>\n",
       "      <td>151</td>\n",
       "      <td>CAFKU_0151_20240720_1</td>\n",
       "      <td>7/20/24</td>\n",
       "      <td>...</td>\n",
       "      <td>100</td>\n",
       "      <td>1</td>\n",
       "      <td>75.0</td>\n",
       "      <td>50.0</td>\n",
       "      <td>5.0</td>\n",
       "      <td>2.0</td>\n",
       "      <td>40.0</td>\n",
       "      <td>1</td>\n",
       "      <td>3.0</td>\n",
       "      <td>Abigail</td>\n",
       "    </tr>\n",
       "  </tbody>\n",
       "</table>\n",
       "<p>5 rows × 61 columns</p>\n",
       "</div>"
      ],
      "text/plain": [
       "         inventory_id site_project site_project_label site_name  \\\n",
       "0  143_pre_SHA_burn3d       burn3d          Burnpro3d       SHA   \n",
       "1  140_pre_SHA_burn3d       burn3d          Burnpro3d       SHA   \n",
       "2  152_pre_SHA_burn3d       burn3d          Burnpro3d       SHA   \n",
       "3  147_pre_SHA_burn3d       burn3d          Burnpro3d       SHA   \n",
       "4  151_pre_SHA_burn3d       burn3d          Burnpro3d       SHA   \n",
       "\n",
       "     site_name_label inventory_pre_post_fire inventory_pre_post_fire_label  \\\n",
       "0  Shaver Lake (SHA)                     pre                       Prefire   \n",
       "1  Shaver Lake (SHA)                     pre                       Prefire   \n",
       "2  Shaver Lake (SHA)                     pre                       Prefire   \n",
       "3  Shaver Lake (SHA)                     pre                       Prefire   \n",
       "4  Shaver Lake (SHA)                     pre                       Prefire   \n",
       "\n",
       "   plot_num               plot_blk inventory_date  ... groundpost_cover_total  \\\n",
       "0       143  CAFKU_0143_20240721_1        7/21/24  ...                    100   \n",
       "1       140  CAFKU_0140_20240721_1        7/21/24  ...                    100   \n",
       "2       152  CAFKU_0152_20240721_1        7/21/24  ...                    100   \n",
       "3       147  CAFKU_0147_20240720_1        7/20/24  ...                    100   \n",
       "4       151  CAFKU_0151_20240720_1        7/20/24  ...                    100   \n",
       "\n",
       "   veg_cover_id  veg_cover_tot_veg_percent  veg_cover_tov_percent  \\\n",
       "0             1                       50.0                   40.0   \n",
       "1             1                       95.0                   15.0   \n",
       "2             1                       55.0                   30.0   \n",
       "3             1                       75.0                   30.0   \n",
       "4             1                       75.0                   50.0   \n",
       "\n",
       "  veg_cover_und_percent  veg_cover_tos_percent  veg_cover_herb_percent  \\\n",
       "0                   4.0                    0.0                    10.0   \n",
       "1                   2.0                    5.0                    80.0   \n",
       "2                   5.0                    0.0                    20.0   \n",
       "3                  15.0                    8.0                    25.0   \n",
       "4                   5.0                    2.0                    40.0   \n",
       "\n",
       "   sp_invcov_id  sp_cov_inv_obs  sp_cov_inv_obs_label  \n",
       "0             1             3.0               Abigail  \n",
       "1             1             3.0               Abigail  \n",
       "2             1             3.0               Abigail  \n",
       "3             1             3.0               Abigail  \n",
       "4             1             3.0               Abigail  \n",
       "\n",
       "[5 rows x 61 columns]"
      ]
     },
     "execution_count": 3,
     "metadata": {},
     "output_type": "execute_result"
    }
   ],
   "source": [
    "plots_df = pd.read_csv('https://wifire-data.sdsc.edu/data/ndp/Data_challenge_2024/new_data/field_data/01_plot_identification.csv') # This is the Plot Identification file from the Field Data dataset\n",
    "\n",
    "plots_df.head()"
   ]
  },
  {
   "cell_type": "markdown",
   "id": "8cf05b15-bcf6-4ccf-bffb-a24b84acf5d6",
   "metadata": {},
   "source": [
    "In the plots identification file, the columns `plot_coord_x`, `plot_coord_y`, and `plot_coord_srs` are the most relevant for creating polygons. `plot_coord_srs` is the spatial reference system in [UTM (Universal Transverse Mercator) zones](https://www.usgs.gov/faqs/what-does-term-utm-mean-utm-better-or-more-accurate-latitudelongitude). Because California is so large, there are two UTM zones in this dataset, so we will need to clean up the dataset a bit."
   ]
  },
  {
   "cell_type": "code",
   "execution_count": 4,
   "id": "f810e4f7-22bc-42ad-9d23-81e24af78952",
   "metadata": {},
   "outputs": [
    {
     "name": "stdout",
     "output_type": "stream",
     "text": [
      "The UTM zones are: [26910 26911]\n"
     ]
    }
   ],
   "source": [
    "print(f'The UTM zones are: {np.unique(plots_df.plot_coord_srs)}')"
   ]
  },
  {
   "cell_type": "markdown",
   "id": "27a4ee10-def4-4abf-893e-449ac4044a21",
   "metadata": {},
   "source": [
    "Fast Fuels actually uses the [EPSG:5070](https://epsg.io/5070-1252) projection, which is valid for the contiguous US, so we will be projecting the data to EPSG:5070 projection."
   ]
  },
  {
   "cell_type": "code",
   "execution_count": 5,
   "id": "41ee3159-2fea-4d7d-884c-d3b8d9f3937d",
   "metadata": {},
   "outputs": [],
   "source": [
    "plots_intermediate = []\n",
    "for srs in np.unique(plots_df.plot_coord_srs):\n",
    "    plots_subset = plots_df[plots_df.plot_coord_srs == srs]\n",
    "    plots_subset_gdf = gpd.GeoDataFrame(plots_subset, \n",
    "                                   geometry = gpd.points_from_xy(plots_subset.plot_coord_x, plots_subset.plot_coord_y), \n",
    "                                   crs = srs)\n",
    "\n",
    "    #reproject to EPSG 5070\n",
    "    plots_subset_gdf = plots_subset_gdf.to_crs(5070)\n",
    "    \n",
    "    plots_intermediate.append(plots_subset_gdf)\n",
    "\n",
    "plots_gdf = pd.concat(plots_intermediate)\n",
    "plots_gdf = plots_gdf.dropna(subset = 'plot_blk')"
   ]
  },
  {
   "cell_type": "markdown",
   "id": "87235348-35d9-4adf-8478-28509821f876",
   "metadata": {},
   "source": [
    "Check out the geometry column - they are points"
   ]
  },
  {
   "cell_type": "code",
   "execution_count": 6,
   "id": "eefd978b-feb9-4f6c-8c56-93e8aba008c8",
   "metadata": {
    "scrolled": true
   },
   "outputs": [
    {
     "data": {
      "text/plain": [
       "16    POINT (-2049255.536 2089359.998)\n",
       "17    POINT (-2048644.910 2089443.267)\n",
       "18    POINT (-2048714.646 2089627.893)\n",
       "19    POINT (-2048476.130 2089526.135)\n",
       "21    POINT (-2048375.533 2089348.205)\n",
       "Name: geometry, dtype: geometry"
      ]
     },
     "execution_count": 6,
     "metadata": {},
     "output_type": "execute_result"
    }
   ],
   "source": [
    "plots_gdf.head().geometry"
   ]
  },
  {
   "cell_type": "code",
   "execution_count": 7,
   "id": "774e18d4-b134-4193-a046-af3263cb8020",
   "metadata": {},
   "outputs": [],
   "source": [
    "#buffer the plots to get 1/10 acre plots\n",
    "plot_size = 1/10 #acre\n",
    "acre_to_m2 = 4046.86\n",
    "plot_size_m2 = plot_size * acre_to_m2\n",
    "plot_radius = np.sqrt(plot_size_m2/np.pi)\n",
    "\n",
    "plots_gdf = plots_gdf.set_geometry(plots_gdf.buffer(plot_radius))"
   ]
  },
  {
   "cell_type": "markdown",
   "id": "2f710540-0901-41ec-9911-286671228903",
   "metadata": {},
   "source": [
    "Check out the geometry column again - now it is a polygon"
   ]
  },
  {
   "cell_type": "code",
   "execution_count": 8,
   "id": "4ed0f052-a194-48d6-9b0d-d38c21b0e3fe",
   "metadata": {
    "scrolled": true
   },
   "outputs": [
    {
     "data": {
      "text/plain": [
       "16    POLYGON ((-2049244.186 2089359.998, -2049244.2...\n",
       "17    POLYGON ((-2048633.560 2089443.267, -2048633.6...\n",
       "18    POLYGON ((-2048703.297 2089627.893, -2048703.3...\n",
       "19    POLYGON ((-2048464.781 2089526.135, -2048464.8...\n",
       "21    POLYGON ((-2048364.183 2089348.205, -2048364.2...\n",
       "Name: geometry, dtype: geometry"
      ]
     },
     "execution_count": 8,
     "metadata": {},
     "output_type": "execute_result"
    }
   ],
   "source": [
    "plots_gdf.head().geometry"
   ]
  },
  {
   "cell_type": "markdown",
   "id": "85581f91-04b5-4b36-a365-1e27e7c4fe6a",
   "metadata": {},
   "source": [
    "Now that we have the data in the correct format, we can now use the [Fast Fuels API](https://api.fastfuels.silvxlabs.com/redoc) to generate treelists"
   ]
  },
  {
   "cell_type": "code",
   "execution_count": 9,
   "id": "1351e074-a5ad-435d-92fc-a23588b16df8",
   "metadata": {},
   "outputs": [],
   "source": [
    "def wait_for_complete(request_url, headers):\n",
    "    '''\n",
    "    wait for the response to be completed\n",
    "    request_url is the url to be requested\n",
    "    headers is the headers\n",
    "    '''\n",
    "    response = json.loads(requests.get(url = request_url, headers = headers).text)\n",
    "    while response['status'] in ('pending', 'processing', 'running' ):\n",
    "        time.sleep(5)\n",
    "        response = json.loads(requests.get(url = request_url, headers = headers).text)\n",
    "\n",
    "\n",
    "def get_treelist(site, apikey, gjson, plot_name, temp_file):\n",
    "\n",
    "    '''\n",
    "    get the treelist from fast fuel API\n",
    "    creates the domain, does road and water masks, creates the tree inventories\n",
    "    downloads the inventory\n",
    "    returns the tree list\n",
    "    site is 'https://api.fastfuels.silvxlabs.com/v1/domains'\n",
    "    apikey is the api key\n",
    "    plot_name is the name of the plot\n",
    "    temp_file is the location to temporary save the file (.geojson)\n",
    "    '''\n",
    "    \n",
    "    gjson['name'] = plot_name\n",
    "    gjson['description'] = f'This is for {plot_name}'\n",
    "    gjson['horizontalResolution'] = 2\n",
    "    gjson['verticalResolution'] = 1\n",
    "    \n",
    "    headers = {'accept': 'application/json',\n",
    "             'api-key': apikey,\n",
    "        'Content-Type': 'application/json',\n",
    "    }\n",
    "    \n",
    "    #create domain\n",
    "    domain_response = requests.post(site, headers = headers, json = gjson)\n",
    "    domain_id = json.loads(domain_response.text)['id']\n",
    "    \n",
    "    \n",
    "    #create road mask\n",
    "    json_data_road_water = {\n",
    "        'sources': [\n",
    "            'OSM',\n",
    "        ],\n",
    "    }\n",
    "    \n",
    "    road_response = requests.post(f'{site}/{domain_id}/features/road', headers = headers, \n",
    "                  json = json_data_road_water)\n",
    "    \n",
    "    #create water mask\n",
    "    water_response = requests.post(f'{site}/{domain_id}/features/water', headers = headers, \n",
    "                  json = json_data_road_water)\n",
    "    \n",
    "    #wait until water and road mask response completed\n",
    "    wait_for_complete(f'{site}/{domain_id}/features/road', headers)\n",
    "    wait_for_complete(f'{site}/{domain_id}/features/water', headers)\n",
    "    \n",
    "    \n",
    "    #create tree inventory resource\n",
    "    json_data_tree = {\n",
    "        'sources': [\n",
    "            'TreeMap',\n",
    "        ]\n",
    "    }\n",
    "    \n",
    "    tree_inventory_response = requests.post(f'{site}/{domain_id}/inventories/tree', headers = headers, \n",
    "                  json = json_data_tree)\n",
    "    \n",
    "    #wait until tree inventory response completed\n",
    "    wait_for_complete(f'{site}/{domain_id}/inventories/tree', headers)\n",
    "    \n",
    "    #create tree grid\n",
    "    json_data_tree_grid = {\n",
    "        'attributes': [\n",
    "            'bulkDensity',\n",
    "            'fuelMoisture',\n",
    "        ],\n",
    "        'fuelMoisture': {\n",
    "            'source': 'uniform',\n",
    "            'value': 125,\n",
    "        },\n",
    "    }\n",
    "    \n",
    "    \n",
    "    tree_grid_response = requests.post(f'{site}/{domain_id}/grids/tree', headers = headers, \n",
    "                  json = json_data_tree_grid)\n",
    "    \n",
    "    #wait until tree grid inventory response completed\n",
    "    wait_for_complete(f'{site}/{domain_id}/grids/tree', headers)\n",
    "    \n",
    "    #get tree inventory\n",
    "    tree_inventory = requests.post(f'{site}/{domain_id}/inventories/tree/exports/geojson', headers = headers)\n",
    "    \n",
    "    #wait until tree grid inventory response completed\n",
    "    wait_for_complete(f'{site}/{domain_id}/inventories/tree/exports/geojson', headers)\n",
    "    \n",
    "    inventory_response = json.loads(requests.get(f'{site}/{domain_id}/inventories/tree/exports/geojson', headers = headers).text)\n",
    "    inventory_status = inventory_response['status']\n",
    "    \n",
    "    if inventory_status == 'completed':\n",
    "        download_link = inventory_response['signedUrl']\n",
    "        wget.download(download_link, temp_file)\n",
    "        tree_list = gpd.read_file(temp_file)\n",
    "        tree_list['plot_name'] = plot_name\n",
    "        return(tree_list)\n",
    "    \n",
    "    else:\n",
    "        print('fail')"
   ]
  },
  {
   "cell_type": "markdown",
   "id": "3929db06-c933-4cc3-8a34-7ffba12976eb",
   "metadata": {},
   "source": [
    "here's what the spatial data look like\n"
   ]
  },
  {
   "cell_type": "code",
   "execution_count": 10,
   "id": "095cce47-1737-4ab2-ae18-af7e2fb185ec",
   "metadata": {
    "scrolled": true
   },
   "outputs": [
    {
     "data": {
      "text/plain": [
       "{\"crs\": {\"properties\": {\"name\": \"urn:ogc:def:crs:EPSG::5070\"}, \"type\": \"name\"}, \"features\": [{\"geometry\": {\"coordinates\": [[[-2049244.185938, 2089359.998217], [-2049244.24059, 2089358.885752], [-2049244.404019, 2089357.784001], [-2049244.674652, 2089356.703575], [-2049245.049882, 2089355.654877], [-2049245.526095, 2089354.648008], [-2049246.098706, 2089353.692665], [-2049246.7622, 2089352.798047], [-2049247.510186, 2089351.972771], [-2049248.335462, 2089351.224785], [-2049249.23008, 2089350.561291], [-2049250.185423, 2089349.98868], [-2049251.192292, 2089349.512467], [-2049252.24099, 2089349.137237], [-2049253.321417, 2089348.866604], [-2049254.423167, 2089348.703175], [-2049255.535632, 2089348.648523], [-2049256.648097, 2089348.703175], [-2049257.749847, 2089348.866604], [-2049258.830274, 2089349.137237], [-2049259.878972, 2089349.512467], [-2049260.885841, 2089349.98868], [-2049261.841184, 2089350.561291], [-2049262.735802, 2089351.224785], [-2049263.561078, 2089351.972771], [-2049264.309064, 2089352.798047], [-2049264.972558, 2089353.692665], [-2049265.545168, 2089354.648008], [-2049266.021382, 2089355.654877], [-2049266.396612, 2089356.703575], [-2049266.667245, 2089357.784001], [-2049266.830674, 2089358.885752], [-2049266.885326, 2089359.998217], [-2049266.830674, 2089361.110681], [-2049266.667245, 2089362.212432], [-2049266.396612, 2089363.292859], [-2049266.021382, 2089364.341557], [-2049265.545168, 2089365.348426], [-2049264.972558, 2089366.303769], [-2049264.309064, 2089367.198387], [-2049263.561078, 2089368.023663], [-2049262.735802, 2089368.771649], [-2049261.841184, 2089369.435143], [-2049260.885841, 2089370.007753], [-2049259.878972, 2089370.483967], [-2049258.830274, 2089370.859197], [-2049257.749847, 2089371.12983], [-2049256.648097, 2089371.293259], [-2049255.535632, 2089371.347911], [-2049254.423167, 2089371.293259], [-2049253.321417, 2089371.12983], [-2049252.24099, 2089370.859197], [-2049251.192292, 2089370.483967], [-2049250.185423, 2089370.007753], [-2049249.23008, 2089369.435143], [-2049248.335462, 2089368.771649], [-2049247.510186, 2089368.023663], [-2049246.7622, 2089367.198387], [-2049246.098706, 2089366.303769], [-2049245.526095, 2089365.348426], [-2049245.049882, 2089364.341557], [-2049244.674652, 2089363.292859], [-2049244.404019, 2089362.212432], [-2049244.24059, 2089361.110681], [-2049244.185938, 2089359.998217]]], \"type\": \"Polygon\"}, \"id\": \"16\", \"properties\": {\"ground_cover_ash\": 0, \"ground_cover_bare_soil\": 5, \"ground_cover_basal_veg\": 5, \"ground_cover_blacklitter\": 0, \"ground_cover_burnpiles\": 0, \"ground_cover_cwd\": 0, \"ground_cover_id\": 1, \"ground_cover_litter\": 85, \"ground_cover_rock\": 5, \"groundpost_cover_total\": 100, \"inventory_date\": \"8/17/24\", \"inventory_firesever\": 0.0, \"inventory_firesever_label\": \"Unburned\", \"inventory_hour\": \"13:19\", \"inventory_id\": \"53_pre_ind_burn3d\", \"inventory_notes\": null, \"inventory_photoe_file_name\": null, \"inventory_photoe_file_uuid\": null, \"inventory_photon_file_name\": null, \"inventory_photon_file_uuid\": null, \"inventory_photos_file_name\": null, \"inventory_photos_file_uuid\": null, \"inventory_photow_file_name\": null, \"inventory_photow_file_uuid\": null, \"inventory_plot_diam\": 11.3, \"inventory_pre_post_fire\": \"pre\", \"inventory_pre_post_fire_label\": \"Prefire\", \"inventory_sapling_sco_per\": null, \"inventory_seedling_sco_per\": null, \"inventory_shrubs_sco_per\": null, \"plot_aspectdegre\": 135, \"plot_blk\": \"CATNF_6053_20240817_1\", \"plot_coord_srs\": 26910, \"plot_coord_x\": 732491, \"plot_coord_y\": 4370799, \"plot_declination\": \"12.98 east\", \"plot_num\": 53, \"plot_slopeper\": 5, \"plot_wtreeazimuth_deg\": 8, \"plot_wtreedbh\": null, \"plot_wtreedistance_m\": 8.5, \"plot_wtreesp\": null, \"plot_wtreesp_scientific_name\": null, \"plot_wtreesp_vernacular_name\": null, \"plot_wtreetag\": 495.0, \"plot_wtreetag_yn\": true, \"reg_id\": 1, \"reg_plot_diam\": 4.37, \"site_name\": \"ind\", \"site_name_label\": \"Independence Lake (IND)\", \"site_project\": \"burn3d\", \"site_project_label\": \"Burnpro3d\", \"sp_cov_inv_obs\": 3.0, \"sp_cov_inv_obs_label\": \"Abigail\", \"sp_invcov_id\": 1, \"veg_cover_herb_percent\": 95.0, \"veg_cover_id\": 1, \"veg_cover_tos_percent\": 1.0, \"veg_cover_tot_veg_percent\": 97.0, \"veg_cover_tov_percent\": 10.0, \"veg_cover_und_percent\": 5.0}, \"type\": \"Feature\"}], \"type\": \"FeatureCollection\"}"
      ]
     },
     "execution_count": 10,
     "metadata": {},
     "output_type": "execute_result"
    }
   ],
   "source": [
    "geojson.loads(plots_gdf.iloc[[0]].to_json())"
   ]
  },
  {
   "cell_type": "code",
   "execution_count": 11,
   "id": "3dcce377-66c0-41e6-aa40-255524a85cd2",
   "metadata": {},
   "outputs": [
    {
     "name": "stdout",
     "output_type": "stream",
     "text": [
      "100% [..............................................................] 3319 / 3319"
     ]
    }
   ],
   "source": [
    "#the following goes through each plot and generates the fast fuels treelist for each\n",
    "nrows, ncols = plots_gdf.shape\n",
    "site = 'https://api.fastfuels.silvxlabs.com/v1/domains'\n",
    "temp_file = 'temp_file.geojson'\n",
    "\n",
    "fftl_df_list = []\n",
    "\n",
    "for i in np.arange(nrows):\n",
    "    gjson = geojson.loads(plots_gdf.iloc[[i]].to_json())\n",
    "    plot_name = plots_gdf.iloc[[i]].plot_blk.values[0]\n",
    "    \n",
    "    fftl_df_list.append(get_treelist(site, apikey, gjson, str(plot_name), temp_file))\n",
    "\n",
    "#make the final fast fuel treelist\n",
    "final_fftl = pd.concat(fftl_df_list)\n",
    "\n",
    "#save treelist\n",
    "final_fftl.to_csv('full_fftl_plots.csv')"
   ]
  },
  {
   "cell_type": "markdown",
   "id": "1c2a07f4-65dc-411d-b8e5-851b5d9af3b5",
   "metadata": {},
   "source": [
    "fast fuels generates the treelist in a rectangle around the plot (which is circular), so we can perform a spatial join operation to get only the trees in the plot. Note that some plots may have trees that are all already be contained in the circular plot boundary.\n"
   ]
  },
  {
   "cell_type": "code",
   "execution_count": 12,
   "id": "519478cf-e3f9-4ac8-b123-8d90818d8ca1",
   "metadata": {
    "scrolled": true
   },
   "outputs": [
    {
     "name": "stdout",
     "output_type": "stream",
     "text": [
      "(204, 14)\n"
     ]
    },
    {
     "data": {
      "text/html": [
       "<div>\n",
       "<style scoped>\n",
       "    .dataframe tbody tr th:only-of-type {\n",
       "        vertical-align: middle;\n",
       "    }\n",
       "\n",
       "    .dataframe tbody tr th {\n",
       "        vertical-align: top;\n",
       "    }\n",
       "\n",
       "    .dataframe thead th {\n",
       "        text-align: right;\n",
       "    }\n",
       "</style>\n",
       "<table border=\"1\" class=\"dataframe\">\n",
       "  <thead>\n",
       "    <tr style=\"text-align: right;\">\n",
       "      <th></th>\n",
       "      <th>CHUNK_ID</th>\n",
       "      <th>TREE_ID</th>\n",
       "      <th>PLOT_ID</th>\n",
       "      <th>SPCD</th>\n",
       "      <th>STATUSCD</th>\n",
       "      <th>DIA</th>\n",
       "      <th>HT</th>\n",
       "      <th>CR</th>\n",
       "      <th>X</th>\n",
       "      <th>Y</th>\n",
       "      <th>ROW_CHUNK</th>\n",
       "      <th>COL_CHUNK</th>\n",
       "      <th>geometry</th>\n",
       "      <th>plot_name</th>\n",
       "    </tr>\n",
       "  </thead>\n",
       "  <tbody>\n",
       "    <tr>\n",
       "      <th>0</th>\n",
       "      <td>0_0</td>\n",
       "      <td>1488583</td>\n",
       "      <td>55336</td>\n",
       "      <td>108</td>\n",
       "      <td>1</td>\n",
       "      <td>3.810</td>\n",
       "      <td>2.7432</td>\n",
       "      <td>0.66</td>\n",
       "      <td>-2.049254e+06</td>\n",
       "      <td>2.089367e+06</td>\n",
       "      <td>0</td>\n",
       "      <td>0</td>\n",
       "      <td>POINT (-2049253.581 2089367.176)</td>\n",
       "      <td>CATNF_6053_20240817_1</td>\n",
       "    </tr>\n",
       "    <tr>\n",
       "      <th>1</th>\n",
       "      <td>0_0</td>\n",
       "      <td>1488596</td>\n",
       "      <td>55336</td>\n",
       "      <td>108</td>\n",
       "      <td>1</td>\n",
       "      <td>5.842</td>\n",
       "      <td>3.9624</td>\n",
       "      <td>0.73</td>\n",
       "      <td>-2.049265e+06</td>\n",
       "      <td>2.089362e+06</td>\n",
       "      <td>0</td>\n",
       "      <td>0</td>\n",
       "      <td>POINT (-2049265.399 2089361.786)</td>\n",
       "      <td>CATNF_6053_20240817_1</td>\n",
       "    </tr>\n",
       "    <tr>\n",
       "      <th>2</th>\n",
       "      <td>0_0</td>\n",
       "      <td>1488584</td>\n",
       "      <td>55336</td>\n",
       "      <td>108</td>\n",
       "      <td>1</td>\n",
       "      <td>3.302</td>\n",
       "      <td>2.4384</td>\n",
       "      <td>0.66</td>\n",
       "      <td>-2.049256e+06</td>\n",
       "      <td>2.089371e+06</td>\n",
       "      <td>0</td>\n",
       "      <td>0</td>\n",
       "      <td>POINT (-2049255.659 2089371.454)</td>\n",
       "      <td>CATNF_6053_20240817_1</td>\n",
       "    </tr>\n",
       "    <tr>\n",
       "      <th>3</th>\n",
       "      <td>0_0</td>\n",
       "      <td>1488580</td>\n",
       "      <td>55336</td>\n",
       "      <td>108</td>\n",
       "      <td>1</td>\n",
       "      <td>3.048</td>\n",
       "      <td>2.7432</td>\n",
       "      <td>0.70</td>\n",
       "      <td>-2.049260e+06</td>\n",
       "      <td>2.089363e+06</td>\n",
       "      <td>0</td>\n",
       "      <td>0</td>\n",
       "      <td>POINT (-2049259.808 2089362.973)</td>\n",
       "      <td>CATNF_6053_20240817_1</td>\n",
       "    </tr>\n",
       "    <tr>\n",
       "      <th>4</th>\n",
       "      <td>0_0</td>\n",
       "      <td>1488578</td>\n",
       "      <td>55336</td>\n",
       "      <td>108</td>\n",
       "      <td>1</td>\n",
       "      <td>2.794</td>\n",
       "      <td>2.4384</td>\n",
       "      <td>0.60</td>\n",
       "      <td>-2.049264e+06</td>\n",
       "      <td>2.089371e+06</td>\n",
       "      <td>0</td>\n",
       "      <td>0</td>\n",
       "      <td>POINT (-2049263.826 2089371.093)</td>\n",
       "      <td>CATNF_6053_20240817_1</td>\n",
       "    </tr>\n",
       "  </tbody>\n",
       "</table>\n",
       "</div>"
      ],
      "text/plain": [
       "  CHUNK_ID  TREE_ID  PLOT_ID  SPCD  STATUSCD    DIA      HT    CR  \\\n",
       "0      0_0  1488583    55336   108         1  3.810  2.7432  0.66   \n",
       "1      0_0  1488596    55336   108         1  5.842  3.9624  0.73   \n",
       "2      0_0  1488584    55336   108         1  3.302  2.4384  0.66   \n",
       "3      0_0  1488580    55336   108         1  3.048  2.7432  0.70   \n",
       "4      0_0  1488578    55336   108         1  2.794  2.4384  0.60   \n",
       "\n",
       "              X             Y  ROW_CHUNK  COL_CHUNK  \\\n",
       "0 -2.049254e+06  2.089367e+06          0          0   \n",
       "1 -2.049265e+06  2.089362e+06          0          0   \n",
       "2 -2.049256e+06  2.089371e+06          0          0   \n",
       "3 -2.049260e+06  2.089363e+06          0          0   \n",
       "4 -2.049264e+06  2.089371e+06          0          0   \n",
       "\n",
       "                           geometry              plot_name  \n",
       "0  POINT (-2049253.581 2089367.176)  CATNF_6053_20240817_1  \n",
       "1  POINT (-2049265.399 2089361.786)  CATNF_6053_20240817_1  \n",
       "2  POINT (-2049255.659 2089371.454)  CATNF_6053_20240817_1  \n",
       "3  POINT (-2049259.808 2089362.973)  CATNF_6053_20240817_1  \n",
       "4  POINT (-2049263.826 2089371.093)  CATNF_6053_20240817_1  "
      ]
     },
     "execution_count": 12,
     "metadata": {},
     "output_type": "execute_result"
    }
   ],
   "source": [
    "# fast fuels returns the treelist in EPSG:5070\n",
    "\n",
    "ff_gpd = gpd.GeoDataFrame(final_fftl, geometry = gpd.points_from_xy(final_fftl.X, final_fftl.Y), crs = 5070)\n",
    "\n",
    "print(ff_gpd.shape)\n",
    "ff_gpd.head()"
   ]
  },
  {
   "cell_type": "code",
   "execution_count": 13,
   "id": "5abd1edf-b85b-40eb-a603-32ef27035265",
   "metadata": {},
   "outputs": [
    {
     "data": {
      "text/plain": [
       "Text(107.22933052495726, 0.5, 'Y (meters)')"
      ]
     },
     "execution_count": 13,
     "metadata": {},
     "output_type": "execute_result"
    },
    {
     "data": {
      "image/png": "[encoded data removed]",
      "text/plain": [
       "<Figure size 640x480 with 1 Axes>"
      ]
     },
     "metadata": {},
     "output_type": "display_data"
    }
   ],
   "source": [
    "import matplotlib.pyplot as plt\n",
    "fig, ax = plt.subplots()\n",
    "randomly_chosen_plot = 40\n",
    "plot_of_interest = ff_gpd.plot_name.values[randomly_chosen_plot]\n",
    "\n",
    "ff_gpd[ff_gpd.plot_name == plot_of_interest].plot(ax = ax)\n",
    "plots_gdf[plots_gdf.plot_blk == plot_of_interest].boundary.plot(ax = ax)\n",
    "plt.title('trees in ' + plot_of_interest +  ' (EPSG:5070)')\n",
    "plt.xlabel('X (meters)')\n",
    "plt.ylabel('Y (meters)')"
   ]
  },
  {
   "cell_type": "code",
   "execution_count": 14,
   "id": "99635af6-467a-4849-9222-e421772513b1",
   "metadata": {},
   "outputs": [
    {
     "data": {
      "text/plain": [
       "(150, 76)"
      ]
     },
     "execution_count": 14,
     "metadata": {},
     "output_type": "execute_result"
    }
   ],
   "source": [
    "# peform the spatial join - this will get only the trees that are within the circular plot boundaries\n",
    "ff_csv = ff_gpd.sjoin(plots_gdf)\n",
    "ff_csv.shape"
   ]
  },
  {
   "cell_type": "code",
   "execution_count": 15,
   "id": "3e3f5556-affa-44f6-87e5-c26dfb9221b6",
   "metadata": {},
   "outputs": [
    {
     "data": {
      "text/plain": [
       "Text(107.22933052495726, 0.5, 'Y (meters)')"
      ]
     },
     "execution_count": 15,
     "metadata": {},
     "output_type": "execute_result"
    },
    {
     "data": {
      "image/png": "[encoded data removed]",
      "text/plain": [
       "<Figure size 640x480 with 1 Axes>"
      ]
     },
     "metadata": {},
     "output_type": "display_data"
    }
   ],
   "source": [
    "fig, ax = plt.subplots()\n",
    "ff_gpd[ff_gpd.plot_name == plot_of_interest].plot(ax = ax, label = 'trees removed')\n",
    "ff_csv[ff_csv.plot_name == plot_of_interest].plot(ax = ax, label = 'trees kept')\n",
    "plots_gdf[plots_gdf.plot_blk == plot_of_interest].boundary.plot(ax = ax)\n",
    "plt.title('trees in ' + plot_of_interest +  ' (EPSG:5070)')\n",
    "plt.xlabel('X (meters)')\n",
    "plt.ylabel('Y (meters)')"
   ]
  },
  {
   "cell_type": "code",
   "execution_count": null,
   "id": "b498787e",
   "metadata": {
    "scrolled": true
   },
   "outputs": [],
   "source": [
    "#save as csv - this csv is provided for you in the data challenge\n",
    "ff_csv[['SPCD', 'DIA', 'HT', 'STATUSCD', \n",
    "       'CR', 'X', 'Y', 'plot_name', 'geometry']].to_csv('fftl_plots.csv')"
   ]
  },
  {
   "cell_type": "markdown",
   "id": "e0d52539-a355-4bf1-ad3e-4eafa70a261b",
   "metadata": {},
   "source": [
    "### Acknowledgment\n",
    "\n",
    "This Jupyter Notebook utilizes core code developed by Leticia Lee from the San Diego Supercomputer Center. The content, including analysis and visualizations, builds upon Leticia's foundational work, and we appreciate his contribution to the underlying codebase. Proper credit is appreciated if this notebook is shared or adapted for further use."
   ]
  }
 ],
 "metadata": {
  "kernelspec": {
   "display_name": "Python 3 (ipykernel)",
   "language": "python",
   "name": "python3"
  },
  "language_info": {
   "codemirror_mode": {
    "name": "ipython",
    "version": 3
   },
   "file_extension": ".py",
   "mimetype": "text/x-python",
   "name": "python",
   "nbconvert_exporter": "python",
   "pygments_lexer": "ipython3",
   "version": "3.9.7"
  }
 },
 "nbformat": 4,
 "nbformat_minor": 5
}
